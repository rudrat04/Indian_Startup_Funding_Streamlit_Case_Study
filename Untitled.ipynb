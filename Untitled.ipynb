{
 "cells": [
  {
   "cell_type": "code",
   "execution_count": 1,
   "id": "39631b58",
   "metadata": {},
   "outputs": [],
   "source": [
    "import pandas as pd\n",
    "import numpy as np"
   ]
  },
  {
   "cell_type": "code",
   "execution_count": 2,
   "id": "79104195",
   "metadata": {},
   "outputs": [],
   "source": [
    "df = pd.read_csv('startup_cleaned.csv')\n",
    "df['date'] = pd.to_datetime(df['date'],errors='coerce')\n",
    "df['month'] = df['date'].dt.month\n",
    "df['year'] = df['date'].dt.year"
   ]
  },
  {
   "cell_type": "code",
   "execution_count": 3,
   "id": "d97bcd5a",
   "metadata": {
    "scrolled": true
   },
   "outputs": [
    {
     "data": {
      "text/html": [
       "<div>\n",
       "<style scoped>\n",
       "    .dataframe tbody tr th:only-of-type {\n",
       "        vertical-align: middle;\n",
       "    }\n",
       "\n",
       "    .dataframe tbody tr th {\n",
       "        vertical-align: top;\n",
       "    }\n",
       "\n",
       "    .dataframe thead th {\n",
       "        text-align: right;\n",
       "    }\n",
       "</style>\n",
       "<table border=\"1\" class=\"dataframe\">\n",
       "  <thead>\n",
       "    <tr style=\"text-align: right;\">\n",
       "      <th></th>\n",
       "      <th>date</th>\n",
       "      <th>startup</th>\n",
       "      <th>vertical</th>\n",
       "      <th>subvertical</th>\n",
       "      <th>city</th>\n",
       "      <th>investors</th>\n",
       "      <th>round</th>\n",
       "      <th>amount</th>\n",
       "      <th>month</th>\n",
       "      <th>year</th>\n",
       "    </tr>\n",
       "  </thead>\n",
       "  <tbody>\n",
       "    <tr>\n",
       "      <th>0</th>\n",
       "      <td>2020-09-01</td>\n",
       "      <td>BYJU’S</td>\n",
       "      <td>E-Tech</td>\n",
       "      <td>E-learning</td>\n",
       "      <td>Bengaluru</td>\n",
       "      <td>Tiger Global Management</td>\n",
       "      <td>Private Equity Round</td>\n",
       "      <td>1650.000000</td>\n",
       "      <td>9</td>\n",
       "      <td>2020</td>\n",
       "    </tr>\n",
       "    <tr>\n",
       "      <th>1</th>\n",
       "      <td>2020-01-13</td>\n",
       "      <td>Shuttl</td>\n",
       "      <td>Transportation</td>\n",
       "      <td>App based shuttle service</td>\n",
       "      <td>Gurgaon</td>\n",
       "      <td>Susquehanna Growth Equity</td>\n",
       "      <td>Series C</td>\n",
       "      <td>66.399250</td>\n",
       "      <td>1</td>\n",
       "      <td>2020</td>\n",
       "    </tr>\n",
       "    <tr>\n",
       "      <th>2</th>\n",
       "      <td>2020-09-01</td>\n",
       "      <td>Mamaearth</td>\n",
       "      <td>E-commerce</td>\n",
       "      <td>Retailer of baby and toddler products</td>\n",
       "      <td>Bengaluru</td>\n",
       "      <td>Sequoia Capital India</td>\n",
       "      <td>Series B</td>\n",
       "      <td>151.460595</td>\n",
       "      <td>9</td>\n",
       "      <td>2020</td>\n",
       "    </tr>\n",
       "    <tr>\n",
       "      <th>3</th>\n",
       "      <td>2020-02-01</td>\n",
       "      <td>https://www.wealthbucket.in/</td>\n",
       "      <td>FinTech</td>\n",
       "      <td>Online Investment</td>\n",
       "      <td>New Delhi</td>\n",
       "      <td>Vinod Khatumal</td>\n",
       "      <td>Pre-series A</td>\n",
       "      <td>24.750000</td>\n",
       "      <td>2</td>\n",
       "      <td>2020</td>\n",
       "    </tr>\n",
       "    <tr>\n",
       "      <th>4</th>\n",
       "      <td>2020-02-01</td>\n",
       "      <td>Fashor</td>\n",
       "      <td>Fashion and Apparel</td>\n",
       "      <td>Embroiled Clothes For Women</td>\n",
       "      <td>Mumbai</td>\n",
       "      <td>Sprout Venture Partners</td>\n",
       "      <td>Seed Round</td>\n",
       "      <td>14.850000</td>\n",
       "      <td>2</td>\n",
       "      <td>2020</td>\n",
       "    </tr>\n",
       "  </tbody>\n",
       "</table>\n",
       "</div>"
      ],
      "text/plain": [
       "        date                       startup             vertical  \\\n",
       "0 2020-09-01                        BYJU’S               E-Tech   \n",
       "1 2020-01-13                        Shuttl       Transportation   \n",
       "2 2020-09-01                     Mamaearth           E-commerce   \n",
       "3 2020-02-01  https://www.wealthbucket.in/              FinTech   \n",
       "4 2020-02-01                        Fashor  Fashion and Apparel   \n",
       "\n",
       "                             subvertical       city  \\\n",
       "0                             E-learning  Bengaluru   \n",
       "1              App based shuttle service    Gurgaon   \n",
       "2  Retailer of baby and toddler products  Bengaluru   \n",
       "3                      Online Investment  New Delhi   \n",
       "4            Embroiled Clothes For Women     Mumbai   \n",
       "\n",
       "                   investors                 round       amount  month  year  \n",
       "0    Tiger Global Management  Private Equity Round  1650.000000      9  2020  \n",
       "1  Susquehanna Growth Equity              Series C    66.399250      1  2020  \n",
       "2      Sequoia Capital India              Series B   151.460595      9  2020  \n",
       "3             Vinod Khatumal          Pre-series A    24.750000      2  2020  \n",
       "4    Sprout Venture Partners            Seed Round    14.850000      2  2020  "
      ]
     },
     "execution_count": 3,
     "metadata": {},
     "output_type": "execute_result"
    }
   ],
   "source": [
    "df.head()"
   ]
  },
  {
   "cell_type": "code",
   "execution_count": 5,
   "id": "f63fac74",
   "metadata": {},
   "outputs": [],
   "source": [
    "startup = 'Rapido'"
   ]
  },
  {
   "cell_type": "code",
   "execution_count": 24,
   "id": "5559dd33",
   "metadata": {},
   "outputs": [
    {
     "data": {
      "text/plain": [
       "57      32175.000000\n",
       "481         2.716147\n",
       "599         3.481500\n",
       "1753        0.000000\n",
       "Name: amount, dtype: float64"
      ]
     },
     "execution_count": 24,
     "metadata": {},
     "output_type": "execute_result"
    }
   ],
   "source": [
    "total_amount_df = df[df['startup'].str.contains(startup)]['amount']\n",
    "total_amount_df"
   ]
  },
  {
   "cell_type": "code",
   "execution_count": 23,
   "id": "527877f4",
   "metadata": {},
   "outputs": [
    {
     "data": {
      "text/plain": [
       "32181.2"
      ]
     },
     "execution_count": 23,
     "metadata": {},
     "output_type": "execute_result"
    }
   ],
   "source": [
    "total_amount_invested = round(total_amount_df.sum(), ndigits=2)"
   ]
  },
  {
   "cell_type": "code",
   "execution_count": 25,
   "id": "9cdf022d",
   "metadata": {},
   "outputs": [
    {
     "data": {
      "text/html": [
       "<div>\n",
       "<style scoped>\n",
       "    .dataframe tbody tr th:only-of-type {\n",
       "        vertical-align: middle;\n",
       "    }\n",
       "\n",
       "    .dataframe tbody tr th {\n",
       "        vertical-align: top;\n",
       "    }\n",
       "\n",
       "    .dataframe thead th {\n",
       "        text-align: right;\n",
       "    }\n",
       "</style>\n",
       "<table border=\"1\" class=\"dataframe\">\n",
       "  <thead>\n",
       "    <tr style=\"text-align: right;\">\n",
       "      <th></th>\n",
       "      <th>date</th>\n",
       "      <th>startup</th>\n",
       "      <th>vertical</th>\n",
       "      <th>subvertical</th>\n",
       "      <th>city</th>\n",
       "      <th>investors</th>\n",
       "      <th>round</th>\n",
       "      <th>amount</th>\n",
       "      <th>month</th>\n",
       "      <th>year</th>\n",
       "    </tr>\n",
       "  </thead>\n",
       "  <tbody>\n",
       "    <tr>\n",
       "      <th>0</th>\n",
       "      <td>2020-09-01</td>\n",
       "      <td>BYJU’S</td>\n",
       "      <td>E-Tech</td>\n",
       "      <td>E-learning</td>\n",
       "      <td>Bengaluru</td>\n",
       "      <td>Tiger Global Management</td>\n",
       "      <td>Private Equity Round</td>\n",
       "      <td>1650.000000</td>\n",
       "      <td>9</td>\n",
       "      <td>2020</td>\n",
       "    </tr>\n",
       "    <tr>\n",
       "      <th>1</th>\n",
       "      <td>2020-01-13</td>\n",
       "      <td>Shuttl</td>\n",
       "      <td>Transportation</td>\n",
       "      <td>App based shuttle service</td>\n",
       "      <td>Gurgaon</td>\n",
       "      <td>Susquehanna Growth Equity</td>\n",
       "      <td>Series C</td>\n",
       "      <td>66.399250</td>\n",
       "      <td>1</td>\n",
       "      <td>2020</td>\n",
       "    </tr>\n",
       "    <tr>\n",
       "      <th>2</th>\n",
       "      <td>2020-09-01</td>\n",
       "      <td>Mamaearth</td>\n",
       "      <td>E-commerce</td>\n",
       "      <td>Retailer of baby and toddler products</td>\n",
       "      <td>Bengaluru</td>\n",
       "      <td>Sequoia Capital India</td>\n",
       "      <td>Series B</td>\n",
       "      <td>151.460595</td>\n",
       "      <td>9</td>\n",
       "      <td>2020</td>\n",
       "    </tr>\n",
       "    <tr>\n",
       "      <th>3</th>\n",
       "      <td>2020-02-01</td>\n",
       "      <td>https://www.wealthbucket.in/</td>\n",
       "      <td>FinTech</td>\n",
       "      <td>Online Investment</td>\n",
       "      <td>New Delhi</td>\n",
       "      <td>Vinod Khatumal</td>\n",
       "      <td>Pre-series A</td>\n",
       "      <td>24.750000</td>\n",
       "      <td>2</td>\n",
       "      <td>2020</td>\n",
       "    </tr>\n",
       "    <tr>\n",
       "      <th>4</th>\n",
       "      <td>2020-02-01</td>\n",
       "      <td>Fashor</td>\n",
       "      <td>Fashion and Apparel</td>\n",
       "      <td>Embroiled Clothes For Women</td>\n",
       "      <td>Mumbai</td>\n",
       "      <td>Sprout Venture Partners</td>\n",
       "      <td>Seed Round</td>\n",
       "      <td>14.850000</td>\n",
       "      <td>2</td>\n",
       "      <td>2020</td>\n",
       "    </tr>\n",
       "  </tbody>\n",
       "</table>\n",
       "</div>"
      ],
      "text/plain": [
       "        date                       startup             vertical  \\\n",
       "0 2020-09-01                        BYJU’S               E-Tech   \n",
       "1 2020-01-13                        Shuttl       Transportation   \n",
       "2 2020-09-01                     Mamaearth           E-commerce   \n",
       "3 2020-02-01  https://www.wealthbucket.in/              FinTech   \n",
       "4 2020-02-01                        Fashor  Fashion and Apparel   \n",
       "\n",
       "                             subvertical       city  \\\n",
       "0                             E-learning  Bengaluru   \n",
       "1              App based shuttle service    Gurgaon   \n",
       "2  Retailer of baby and toddler products  Bengaluru   \n",
       "3                      Online Investment  New Delhi   \n",
       "4            Embroiled Clothes For Women     Mumbai   \n",
       "\n",
       "                   investors                 round       amount  month  year  \n",
       "0    Tiger Global Management  Private Equity Round  1650.000000      9  2020  \n",
       "1  Susquehanna Growth Equity              Series C    66.399250      1  2020  \n",
       "2      Sequoia Capital India              Series B   151.460595      9  2020  \n",
       "3             Vinod Khatumal          Pre-series A    24.750000      2  2020  \n",
       "4    Sprout Venture Partners            Seed Round    14.850000      2  2020  "
      ]
     },
     "execution_count": 25,
     "metadata": {},
     "output_type": "execute_result"
    }
   ],
   "source": [
    "df.head()"
   ]
  },
  {
   "cell_type": "code",
   "execution_count": 31,
   "id": "5ca0a75c",
   "metadata": {},
   "outputs": [
    {
     "data": {
      "text/plain": [
       "startup\n",
       "Swiggy             8\n",
       "Ola Cabs           8\n",
       "UrbanClap          6\n",
       "Nykaa              6\n",
       "Medinfi            6\n",
       "                  ..\n",
       "Healers At Home    1\n",
       "HeadOut            1\n",
       "Hasura             1\n",
       "HashTaag           1\n",
       "zippserv           1\n",
       "Name: investors, Length: 2299, dtype: int64"
      ]
     },
     "execution_count": 31,
     "metadata": {},
     "output_type": "execute_result"
    }
   ],
   "source": [
    "df.groupby('startup')['investors'].count().sort_values(ascending=False)"
   ]
  },
  {
   "cell_type": "code",
   "execution_count": 36,
   "id": "4f68b9f2",
   "metadata": {},
   "outputs": [
    {
     "data": {
      "text/plain": [
       "startup\n",
       "Rapido    3\n",
       "Name: investors, dtype: int64"
      ]
     },
     "execution_count": 36,
     "metadata": {},
     "output_type": "execute_result"
    }
   ],
   "source": [
    "df[df['startup'] == startup].groupby('startup')['investors'].count()"
   ]
  },
  {
   "cell_type": "code",
   "execution_count": 37,
   "id": "adbfbd9b",
   "metadata": {},
   "outputs": [
    {
     "data": {
      "text/html": [
       "<div>\n",
       "<style scoped>\n",
       "    .dataframe tbody tr th:only-of-type {\n",
       "        vertical-align: middle;\n",
       "    }\n",
       "\n",
       "    .dataframe tbody tr th {\n",
       "        vertical-align: top;\n",
       "    }\n",
       "\n",
       "    .dataframe thead th {\n",
       "        text-align: right;\n",
       "    }\n",
       "</style>\n",
       "<table border=\"1\" class=\"dataframe\">\n",
       "  <thead>\n",
       "    <tr style=\"text-align: right;\">\n",
       "      <th></th>\n",
       "      <th>date</th>\n",
       "      <th>startup</th>\n",
       "      <th>vertical</th>\n",
       "      <th>subvertical</th>\n",
       "      <th>city</th>\n",
       "      <th>investors</th>\n",
       "      <th>round</th>\n",
       "      <th>amount</th>\n",
       "      <th>month</th>\n",
       "      <th>year</th>\n",
       "    </tr>\n",
       "  </thead>\n",
       "  <tbody>\n",
       "    <tr>\n",
       "      <th>481</th>\n",
       "      <td>2017-11-21</td>\n",
       "      <td>Rapido</td>\n",
       "      <td>Technology</td>\n",
       "      <td>Bike and Taxi pooling online platform</td>\n",
       "      <td>Hyderabad</td>\n",
       "      <td>Skycatcher Fund, Aravind Sanka</td>\n",
       "      <td>Seed/Angel Funding</td>\n",
       "      <td>2.716147</td>\n",
       "      <td>11</td>\n",
       "      <td>2017</td>\n",
       "    </tr>\n",
       "    <tr>\n",
       "      <th>599</th>\n",
       "      <td>2017-09-25</td>\n",
       "      <td>Rapido</td>\n",
       "      <td>Consumer Internet</td>\n",
       "      <td>Bike Aggregator Mobile App</td>\n",
       "      <td>Bangalore</td>\n",
       "      <td>Battery Road Digital Holdings LLC</td>\n",
       "      <td>Seed Funding</td>\n",
       "      <td>3.481500</td>\n",
       "      <td>9</td>\n",
       "      <td>2017</td>\n",
       "    </tr>\n",
       "    <tr>\n",
       "      <th>1753</th>\n",
       "      <td>2016-04-18</td>\n",
       "      <td>Rapido</td>\n",
       "      <td>Consumer Internet</td>\n",
       "      <td>Bike Aggregator App</td>\n",
       "      <td>Bangalore</td>\n",
       "      <td>Pawan Munjal, AdvantEdge Partners, Astarc Vent...</td>\n",
       "      <td>Private Equity</td>\n",
       "      <td>0.000000</td>\n",
       "      <td>4</td>\n",
       "      <td>2016</td>\n",
       "    </tr>\n",
       "  </tbody>\n",
       "</table>\n",
       "</div>"
      ],
      "text/plain": [
       "           date startup           vertical  \\\n",
       "481  2017-11-21  Rapido         Technology   \n",
       "599  2017-09-25  Rapido  Consumer Internet   \n",
       "1753 2016-04-18  Rapido  Consumer Internet   \n",
       "\n",
       "                                subvertical       city  \\\n",
       "481   Bike and Taxi pooling online platform  Hyderabad   \n",
       "599              Bike Aggregator Mobile App  Bangalore   \n",
       "1753                    Bike Aggregator App  Bangalore   \n",
       "\n",
       "                                              investors               round  \\\n",
       "481                      Skycatcher Fund, Aravind Sanka  Seed/Angel Funding   \n",
       "599                   Battery Road Digital Holdings LLC        Seed Funding   \n",
       "1753  Pawan Munjal, AdvantEdge Partners, Astarc Vent...      Private Equity   \n",
       "\n",
       "        amount  month  year  \n",
       "481   2.716147     11  2017  \n",
       "599   3.481500      9  2017  \n",
       "1753  0.000000      4  2016  "
      ]
     },
     "execution_count": 37,
     "metadata": {},
     "output_type": "execute_result"
    }
   ],
   "source": [
    "df[df['startup'] == startup]"
   ]
  },
  {
   "cell_type": "code",
   "execution_count": 60,
   "id": "61416221",
   "metadata": {},
   "outputs": [],
   "source": [
    "cities_series = df[df['startup'] == startup].groupby('startup')['city'].value_counts()"
   ]
  },
  {
   "cell_type": "code",
   "execution_count": 73,
   "id": "cc90cd3c",
   "metadata": {},
   "outputs": [
    {
     "data": {
      "text/plain": [
       "MultiIndex([('Rapido', 'Hyderabad')],\n",
       "           names=['startup', 'city'])"
      ]
     },
     "execution_count": 73,
     "metadata": {},
     "output_type": "execute_result"
    }
   ],
   "source": [
    "cities_series.index[1:3]"
   ]
  },
  {
   "cell_type": "code",
   "execution_count": 67,
   "id": "50a0bb9e",
   "metadata": {},
   "outputs": [
    {
     "data": {
      "image/png": "[encoded data removed]",
      "text/plain": [
       "<Figure size 640x480 with 1 Axes>"
      ]
     },
     "metadata": {},
     "output_type": "display_data"
    }
   ],
   "source": [
    "startup_cities = df[df['startup'] == startup].groupby('startup')['city'].value_counts().plot(kind = 'pie', autopct = \"%0.01f%%\")"
   ]
  },
  {
   "cell_type": "code",
   "execution_count": 80,
   "id": "ddf39fdd",
   "metadata": {},
   "outputs": [],
   "source": [
    "list_of_investors = df[df['startup'] == startup]['investors'].reset_index().drop(columns=['index']).count()"
   ]
  },
  {
   "cell_type": "code",
   "execution_count": 87,
   "id": "3052f601",
   "metadata": {},
   "outputs": [
    {
     "data": {
      "text/plain": [
       "'3'"
      ]
     },
     "execution_count": 87,
     "metadata": {},
     "output_type": "execute_result"
    }
   ],
   "source": [
    "str(list_of_investors[0])"
   ]
  },
  {
   "cell_type": "code",
   "execution_count": 89,
   "id": "f0dca22b",
   "metadata": {},
   "outputs": [
    {
     "data": {
      "image/png": "[encoded data removed]",
      "text/plain": [
       "<Figure size 640x480 with 1 Axes>"
      ]
     },
     "metadata": {},
     "output_type": "display_data"
    }
   ],
   "source": [
    "vertical_series = df[df['startup'] == startup].groupby('startup')['vertical'].value_counts().plot(kind='pie')"
   ]
  },
  {
   "cell_type": "code",
   "execution_count": null,
   "id": "d1112af8",
   "metadata": {},
   "outputs": [],
   "source": []
  }
 ],
 "metadata": {
  "kernelspec": {
   "display_name": "Python 3 (ipykernel)",
   "language": "python",
   "name": "python3"
  },
  "language_info": {
   "codemirror_mode": {
    "name": "ipython",
    "version": 3
   },
   "file_extension": ".py",
   "mimetype": "text/x-python",
   "name": "python",
   "nbconvert_exporter": "python",
   "pygments_lexer": "ipython3",
   "version": "3.9.16"
  }
 },
 "nbformat": 4,
 "nbformat_minor": 5
}
